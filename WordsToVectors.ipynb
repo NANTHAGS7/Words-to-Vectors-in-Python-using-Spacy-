{
  "nbformat": 4,
  "nbformat_minor": 0,
  "metadata": {
    "colab": {
      "provenance": []
    },
    "kernelspec": {
      "name": "python3",
      "display_name": "Python 3"
    },
    "language_info": {
      "name": "python"
    }
  },
  "cells": [
    {
      "cell_type": "code",
      "execution_count": null,
      "metadata": {
        "colab": {
          "base_uri": "https://localhost:8080/"
        },
        "id": "c0CcGAJLJ1b8",
        "outputId": "3293686e-fbd7-4610-9942-c72b1e48f9e8"
      },
      "outputs": [
        {
          "output_type": "stream",
          "name": "stdout",
          "text": [
            "Requirement already satisfied: spicy in /usr/local/lib/python3.10/dist-packages (0.16.0)\n",
            "Requirement already satisfied: scipy in /usr/local/lib/python3.10/dist-packages (from spicy) (1.11.4)\n",
            "Requirement already satisfied: numpy<1.28.0,>=1.21.6 in /usr/local/lib/python3.10/dist-packages (from scipy->spicy) (1.25.2)\n",
            "Collecting en-core-web-lg==3.7.1\n",
            "  Downloading https://github.com/explosion/spacy-models/releases/download/en_core_web_lg-3.7.1/en_core_web_lg-3.7.1-py3-none-any.whl (587.7 MB)\n",
            "\u001b[2K     \u001b[90m━━━━━━━━━━━━━━━━━━━━━━━━━━━━━━━━━━━━━━━━\u001b[0m \u001b[32m587.7/587.7 MB\u001b[0m \u001b[31m1.6 MB/s\u001b[0m eta \u001b[36m0:00:00\u001b[0m\n",
            "\u001b[?25hRequirement already satisfied: spacy<3.8.0,>=3.7.2 in /usr/local/lib/python3.10/dist-packages (from en-core-web-lg==3.7.1) (3.7.4)\n",
            "Requirement already satisfied: spacy-legacy<3.1.0,>=3.0.11 in /usr/local/lib/python3.10/dist-packages (from spacy<3.8.0,>=3.7.2->en-core-web-lg==3.7.1) (3.0.12)\n",
            "Requirement already satisfied: spacy-loggers<2.0.0,>=1.0.0 in /usr/local/lib/python3.10/dist-packages (from spacy<3.8.0,>=3.7.2->en-core-web-lg==3.7.1) (1.0.5)\n",
            "Requirement already satisfied: murmurhash<1.1.0,>=0.28.0 in /usr/local/lib/python3.10/dist-packages (from spacy<3.8.0,>=3.7.2->en-core-web-lg==3.7.1) (1.0.10)\n",
            "Requirement already satisfied: cymem<2.1.0,>=2.0.2 in /usr/local/lib/python3.10/dist-packages (from spacy<3.8.0,>=3.7.2->en-core-web-lg==3.7.1) (2.0.8)\n",
            "Requirement already satisfied: preshed<3.1.0,>=3.0.2 in /usr/local/lib/python3.10/dist-packages (from spacy<3.8.0,>=3.7.2->en-core-web-lg==3.7.1) (3.0.9)\n",
            "Requirement already satisfied: thinc<8.3.0,>=8.2.2 in /usr/local/lib/python3.10/dist-packages (from spacy<3.8.0,>=3.7.2->en-core-web-lg==3.7.1) (8.2.3)\n",
            "Requirement already satisfied: wasabi<1.2.0,>=0.9.1 in /usr/local/lib/python3.10/dist-packages (from spacy<3.8.0,>=3.7.2->en-core-web-lg==3.7.1) (1.1.2)\n",
            "Requirement already satisfied: srsly<3.0.0,>=2.4.3 in /usr/local/lib/python3.10/dist-packages (from spacy<3.8.0,>=3.7.2->en-core-web-lg==3.7.1) (2.4.8)\n",
            "Requirement already satisfied: catalogue<2.1.0,>=2.0.6 in /usr/local/lib/python3.10/dist-packages (from spacy<3.8.0,>=3.7.2->en-core-web-lg==3.7.1) (2.0.10)\n",
            "Requirement already satisfied: weasel<0.4.0,>=0.1.0 in /usr/local/lib/python3.10/dist-packages (from spacy<3.8.0,>=3.7.2->en-core-web-lg==3.7.1) (0.3.4)\n",
            "Requirement already satisfied: typer<0.10.0,>=0.3.0 in /usr/local/lib/python3.10/dist-packages (from spacy<3.8.0,>=3.7.2->en-core-web-lg==3.7.1) (0.9.4)\n",
            "Requirement already satisfied: smart-open<7.0.0,>=5.2.1 in /usr/local/lib/python3.10/dist-packages (from spacy<3.8.0,>=3.7.2->en-core-web-lg==3.7.1) (6.4.0)\n",
            "Requirement already satisfied: tqdm<5.0.0,>=4.38.0 in /usr/local/lib/python3.10/dist-packages (from spacy<3.8.0,>=3.7.2->en-core-web-lg==3.7.1) (4.66.2)\n",
            "Requirement already satisfied: requests<3.0.0,>=2.13.0 in /usr/local/lib/python3.10/dist-packages (from spacy<3.8.0,>=3.7.2->en-core-web-lg==3.7.1) (2.31.0)\n",
            "Requirement already satisfied: pydantic!=1.8,!=1.8.1,<3.0.0,>=1.7.4 in /usr/local/lib/python3.10/dist-packages (from spacy<3.8.0,>=3.7.2->en-core-web-lg==3.7.1) (2.6.4)\n",
            "Requirement already satisfied: jinja2 in /usr/local/lib/python3.10/dist-packages (from spacy<3.8.0,>=3.7.2->en-core-web-lg==3.7.1) (3.1.3)\n",
            "Requirement already satisfied: setuptools in /usr/local/lib/python3.10/dist-packages (from spacy<3.8.0,>=3.7.2->en-core-web-lg==3.7.1) (67.7.2)\n",
            "Requirement already satisfied: packaging>=20.0 in /usr/local/lib/python3.10/dist-packages (from spacy<3.8.0,>=3.7.2->en-core-web-lg==3.7.1) (24.0)\n",
            "Requirement already satisfied: langcodes<4.0.0,>=3.2.0 in /usr/local/lib/python3.10/dist-packages (from spacy<3.8.0,>=3.7.2->en-core-web-lg==3.7.1) (3.3.0)\n",
            "Requirement already satisfied: numpy>=1.19.0 in /usr/local/lib/python3.10/dist-packages (from spacy<3.8.0,>=3.7.2->en-core-web-lg==3.7.1) (1.25.2)\n",
            "Requirement already satisfied: annotated-types>=0.4.0 in /usr/local/lib/python3.10/dist-packages (from pydantic!=1.8,!=1.8.1,<3.0.0,>=1.7.4->spacy<3.8.0,>=3.7.2->en-core-web-lg==3.7.1) (0.6.0)\n",
            "Requirement already satisfied: pydantic-core==2.16.3 in /usr/local/lib/python3.10/dist-packages (from pydantic!=1.8,!=1.8.1,<3.0.0,>=1.7.4->spacy<3.8.0,>=3.7.2->en-core-web-lg==3.7.1) (2.16.3)\n",
            "Requirement already satisfied: typing-extensions>=4.6.1 in /usr/local/lib/python3.10/dist-packages (from pydantic!=1.8,!=1.8.1,<3.0.0,>=1.7.4->spacy<3.8.0,>=3.7.2->en-core-web-lg==3.7.1) (4.10.0)\n",
            "Requirement already satisfied: charset-normalizer<4,>=2 in /usr/local/lib/python3.10/dist-packages (from requests<3.0.0,>=2.13.0->spacy<3.8.0,>=3.7.2->en-core-web-lg==3.7.1) (3.3.2)\n",
            "Requirement already satisfied: idna<4,>=2.5 in /usr/local/lib/python3.10/dist-packages (from requests<3.0.0,>=2.13.0->spacy<3.8.0,>=3.7.2->en-core-web-lg==3.7.1) (3.6)\n",
            "Requirement already satisfied: urllib3<3,>=1.21.1 in /usr/local/lib/python3.10/dist-packages (from requests<3.0.0,>=2.13.0->spacy<3.8.0,>=3.7.2->en-core-web-lg==3.7.1) (2.0.7)\n",
            "Requirement already satisfied: certifi>=2017.4.17 in /usr/local/lib/python3.10/dist-packages (from requests<3.0.0,>=2.13.0->spacy<3.8.0,>=3.7.2->en-core-web-lg==3.7.1) (2024.2.2)\n",
            "Requirement already satisfied: blis<0.8.0,>=0.7.8 in /usr/local/lib/python3.10/dist-packages (from thinc<8.3.0,>=8.2.2->spacy<3.8.0,>=3.7.2->en-core-web-lg==3.7.1) (0.7.11)\n",
            "Requirement already satisfied: confection<1.0.0,>=0.0.1 in /usr/local/lib/python3.10/dist-packages (from thinc<8.3.0,>=8.2.2->spacy<3.8.0,>=3.7.2->en-core-web-lg==3.7.1) (0.1.4)\n",
            "Requirement already satisfied: click<9.0.0,>=7.1.1 in /usr/local/lib/python3.10/dist-packages (from typer<0.10.0,>=0.3.0->spacy<3.8.0,>=3.7.2->en-core-web-lg==3.7.1) (8.1.7)\n",
            "Requirement already satisfied: cloudpathlib<0.17.0,>=0.7.0 in /usr/local/lib/python3.10/dist-packages (from weasel<0.4.0,>=0.1.0->spacy<3.8.0,>=3.7.2->en-core-web-lg==3.7.1) (0.16.0)\n",
            "Requirement already satisfied: MarkupSafe>=2.0 in /usr/local/lib/python3.10/dist-packages (from jinja2->spacy<3.8.0,>=3.7.2->en-core-web-lg==3.7.1) (2.1.5)\n",
            "Installing collected packages: en-core-web-lg\n",
            "Successfully installed en-core-web-lg-3.7.1\n",
            "\u001b[38;5;2m✔ Download and installation successful\u001b[0m\n",
            "You can now load the package via spacy.load('en_core_web_lg')\n",
            "\u001b[38;5;3m⚠ Restart to reload dependencies\u001b[0m\n",
            "If you are in a Jupyter or Colab notebook, you may need to restart Python in\n",
            "order to load all the package's dependencies. You can do this by selecting the\n",
            "'Restart kernel' or 'Restart runtime' option.\n"
          ]
        }
      ],
      "source": [
        "!pip install spicy\n",
        "!python -m spacy download en_core_web_lg"
      ]
    },
    {
      "cell_type": "code",
      "source": [
        "import spacy\n",
        "from spicy import spatial"
      ],
      "metadata": {
        "id": "DTmTBZtcKcTE"
      },
      "execution_count": null,
      "outputs": []
    },
    {
      "cell_type": "code",
      "source": [
        "nlp = spacy.load(\"en_core_web_lg\")\n",
        "nlp.pipe_names"
      ],
      "metadata": {
        "colab": {
          "base_uri": "https://localhost:8080/"
        },
        "id": "XpwUb8yaJ7T8",
        "outputId": "8a280ef8-9f19-4cbe-e363-dd00c2409975"
      },
      "execution_count": null,
      "outputs": [
        {
          "output_type": "execute_result",
          "data": {
            "text/plain": [
              "['tok2vec', 'tagger', 'parser', 'attribute_ruler', 'lemmatizer', 'ner']"
            ]
          },
          "metadata": {},
          "execution_count": 21
        }
      ]
    },
    {
      "cell_type": "code",
      "source": [
        "print(len(nlp.vocab))\n",
        "print(len(nlp.vocab.vectors))"
      ],
      "metadata": {
        "colab": {
          "base_uri": "https://localhost:8080/"
        },
        "id": "Fj7K7-EmKx3-",
        "outputId": "e69b0b52-b947-44bc-f894-4f5ff98e94f2"
      },
      "execution_count": null,
      "outputs": [
        {
          "output_type": "stream",
          "name": "stdout",
          "text": [
            "764\n",
            "514157\n"
          ]
        }
      ]
    },
    {
      "cell_type": "code",
      "source": [
        "nlp(u'lion').vector.shape"
      ],
      "metadata": {
        "colab": {
          "base_uri": "https://localhost:8080/"
        },
        "id": "xAcrSNvjK8pl",
        "outputId": "0d0ce098-74de-4300-b7f4-46b72195c996"
      },
      "execution_count": null,
      "outputs": [
        {
          "output_type": "execute_result",
          "data": {
            "text/plain": [
              "(300,)"
            ]
          },
          "metadata": {},
          "execution_count": 23
        }
      ]
    },
    {
      "cell_type": "code",
      "source": [
        "tokens = nlp(u'cat lion pet')\n",
        "\n",
        "for t1 in tokens:\n",
        "  for t2 in tokens:\n",
        "    print(t1.text,t2.text,t1.similarity(t2))"
      ],
      "metadata": {
        "colab": {
          "base_uri": "https://localhost:8080/"
        },
        "id": "YTE7bggLLJ34",
        "outputId": "ac50d9f7-53a7-4b89-a1e5-ea99e930216d"
      },
      "execution_count": null,
      "outputs": [
        {
          "output_type": "stream",
          "name": "stdout",
          "text": [
            "cat cat 1.0\n",
            "cat lion 0.3854507803916931\n",
            "cat pet 0.732966423034668\n",
            "lion cat 0.3854507803916931\n",
            "lion lion 1.0\n",
            "lion pet 0.20031584799289703\n",
            "pet cat 0.732966423034668\n",
            "pet lion 0.20031584799289703\n",
            "pet pet 1.0\n"
          ]
        }
      ]
    },
    {
      "cell_type": "code",
      "source": [
        "tokens = nlp(u'dog cat sharma abhishek')\n",
        "for t in tokens:\n",
        "    print(t.text,t.has_vector,t.vector_norm,t.is_oov)"
      ],
      "metadata": {
        "colab": {
          "base_uri": "https://localhost:8080/"
        },
        "id": "TDU-bZFRLVgz",
        "outputId": "d0445019-b8d4-4269-fef2-06eff0f62abf"
      },
      "execution_count": null,
      "outputs": [
        {
          "output_type": "stream",
          "name": "stdout",
          "text": [
            "dog True 75.254234 False\n",
            "cat True 63.188496 False\n",
            "sharma True 29.174288 False\n",
            "abhishek False 0.0 True\n"
          ]
        }
      ]
    },
    {
      "cell_type": "code",
      "source": [
        "king = nlp(u'king').vector\n",
        "man = nlp(u'man').vector\n",
        "woman = nlp(u'woman').vector"
      ],
      "metadata": {
        "id": "wGupCXm7La20"
      },
      "execution_count": null,
      "outputs": []
    },
    {
      "cell_type": "code",
      "source": [
        "new_vector = king-man+woman\n",
        "new_vector"
      ],
      "metadata": {
        "colab": {
          "base_uri": "https://localhost:8080/"
        },
        "id": "EbuPMwGXLeer",
        "outputId": "8fcc822d-2cd5-4150-c46f-ae6497b618fd"
      },
      "execution_count": null,
      "outputs": [
        {
          "output_type": "execute_result",
          "data": {
            "text/plain": [
              "array([ 1.9392200e+00, -2.3115001e+00, -1.3863000e+00, -1.9133999e+00,\n",
              "        4.1749401e+00, -1.5401300e+00, -3.8272700e+00,  5.0291996e+00,\n",
              "       -2.4454002e+00,  2.0851002e+00,  1.6605499e+01, -1.3788500e+00,\n",
              "       -5.7085404e+00,  2.7210798e+00,  6.6530025e-01,  3.4804001e+00,\n",
              "        1.0497000e+00, -1.1281996e+00, -6.6435003e-01, -3.5216696e+00,\n",
              "       -8.0680294e+00, -3.8434997e+00, -4.4948001e+00,  8.7943001e+00,\n",
              "       -6.3383985e-01, -4.8098001e+00, -1.2955203e+00, -6.1078286e-01,\n",
              "        4.1610003e-01, -4.1724200e+00,  3.7961500e+00, -5.5350199e+00,\n",
              "       -1.4319000e+00, -4.7633996e+00,  3.7440000e+00, -1.2749730e+00,\n",
              "        3.1816001e+00,  1.0476298e+00,  1.0784001e+00, -3.0779200e+00,\n",
              "       -1.2711000e+00, -3.6251001e+00, -2.7258501e+00,  4.7676001e+00,\n",
              "        1.5000498e+00,  2.5363998e+00,  9.6959996e-01,  2.8748999e+00,\n",
              "        2.6771998e+00,  1.8741999e+00, -5.3535199e+00,  3.7624002e+00,\n",
              "       -5.4443008e-01, -2.8594000e+00, -2.3983500e+00,  7.5615001e-01,\n",
              "       -1.6862996e+00, -6.4709001e+00,  4.6223898e+00,  4.8498998e+00,\n",
              "       -3.0052018e-01, -3.8868999e+00,  6.3224001e+00, -2.3664501e+00,\n",
              "        2.2703300e+00,  3.3231003e+00, -6.1042299e+00, -5.0201001e+00,\n",
              "        9.5792999e+00,  3.2759299e+00, -2.2653799e+00,  2.1234000e+00,\n",
              "       -4.9017401e+00, -1.7752002e+00, -5.6193900e+00,  4.1918001e+00,\n",
              "       -7.4270792e+00,  4.9396996e+00, -2.4484301e+00,  4.2602000e+00,\n",
              "       -6.5094099e+00,  2.1665001e-01, -4.7990103e+00,  2.1538997e+00,\n",
              "        5.7447004e-01,  4.8984995e+00, -2.2124000e+00,  6.1560011e-01,\n",
              "       -2.9963100e+00, -2.3548698e+00,  3.4073899e+00,  3.2515998e+00,\n",
              "        5.9930038e-01, -4.7820997e+00, -3.5769701e+00,  1.4498850e+00,\n",
              "        3.3627901e+00,  1.6592300e+00, -4.9630995e+00,  3.1173401e+00,\n",
              "       -2.4839001e+00,  6.2902503e+00,  4.9243503e+00,  2.9040699e+00,\n",
              "        4.3234000e+00,  6.6861000e+00,  5.3109980e-01, -2.5485201e+00,\n",
              "        8.3090991e-02, -5.3160200e+00, -1.0756803e+00,  7.8729000e+00,\n",
              "       -4.3389010e-01, -5.2601500e+00,  1.3486199e+01,  2.3806996e+00,\n",
              "       -3.7742000e+00, -1.1628900e+00, -6.5094995e-01, -5.2306204e+00,\n",
              "        3.5393040e+00, -2.8087997e+00,  6.3808994e+00, -4.2631006e+00,\n",
              "       -1.3755180e+00, -1.1459400e+01,  6.9519949e-01, -6.7654104e+00,\n",
              "       -3.7590027e-01,  1.0349000e+00, -7.7567997e+00, -3.3424997e-01,\n",
              "       -2.4899971e-01,  2.7706003e-01, -2.1068301e+00, -4.0296001e+00,\n",
              "       -4.1249003e+00,  9.2911994e-01, -1.9882005e-01, -4.7922001e+00,\n",
              "       -8.0993996e+00,  9.8409986e-01, -2.5156000e+00,  3.9651000e+00,\n",
              "        3.9823101e+00, -1.7520022e-01, -8.5326996e+00,  2.7765503e+00,\n",
              "        5.6943102e+00,  5.4154899e-02, -2.0930729e+00,  3.4601800e+00,\n",
              "        4.3996003e-01,  7.6155643e+00,  4.4245200e+00,  6.7000389e-03,\n",
              "       -2.9654300e+00, -1.4637101e+00, -2.6764998e+00, -4.1227999e+00,\n",
              "       -4.5114298e+00, -7.5515008e+00,  9.1299772e-02, -2.2665730e+00,\n",
              "       -3.1620002e+00, -9.3991003e+00, -8.2884207e+00, -2.1912401e+00,\n",
              "       -2.3130891e+00,  2.6930994e-01,  5.4695005e+00, -4.9580050e-01,\n",
              "       -3.7524998e+00,  1.1632795e+00,  1.5505002e+00, -1.9376998e+00,\n",
              "       -5.0283003e-01, -9.6462005e-01, -1.9391000e+00, -3.0476999e+00,\n",
              "        3.4930000e+00, -8.9099646e-02,  7.2140002e-01, -2.5389199e+00,\n",
              "        4.7689600e+00,  6.6139498e+00, -6.9038987e-01,  1.4298400e+00,\n",
              "        1.9550014e-01,  2.9179108e+00,  1.2519000e+00, -9.3613863e+00,\n",
              "       -5.9127002e+00,  2.1136999e+00,  4.5472403e+00, -1.8481016e-02,\n",
              "       -4.4704199e+00,  1.7130041e-01,  1.0735900e+00,  6.3000903e+00,\n",
              "        6.4400005e-01, -1.0550988e-01, -4.1835999e+00,  4.4136992e-01,\n",
              "       -3.9800000e-01, -4.4532104e+00,  1.6721599e+00,  7.3224001e+00,\n",
              "       -1.0846002e+00,  5.5222998e+00,  3.7199998e-01,  1.2874600e+00,\n",
              "        5.5377903e+00,  6.4842997e+00, -4.4014025e-01,  1.9180198e+00,\n",
              "        5.9175801e+00, -3.3658504e+00,  2.3565402e+00, -6.5751324e+00,\n",
              "       -5.7356200e+00,  3.2288995e+00, -5.7550025e-01,  8.1138000e+00,\n",
              "       -5.8756006e-01, -1.3780003e+00,  5.0790000e-01,  3.6003995e+00,\n",
              "       -2.0974400e+00,  5.4249001e+00,  1.0930002e-01,  1.1624999e+00,\n",
              "       -2.8050101e+00,  6.6023998e+00,  4.0592999e+00,  6.4873004e+00,\n",
              "       -1.6781001e+00, -4.1176033e-01, -4.6373997e+00,  5.2927999e+00,\n",
              "        3.6361998e-01,  1.0570800e+01, -3.6768999e+00, -2.2553000e+00,\n",
              "        1.7148998e+00, -8.5960031e-01,  6.8120003e-01,  4.2570729e+00,\n",
              "        6.0465002e+00,  6.4090991e-01,  2.3524004e-01, -5.4971004e+00,\n",
              "       -7.4195600e+00, -2.9869998e-01,  8.8177013e-01, -8.6038990e+00,\n",
              "        4.4706001e+00,  2.3107004e+00, -5.6815004e-01,  2.5742202e+00,\n",
              "        7.3649991e-01, -1.0553801e+00,  4.1707301e-01,  3.6274299e-01,\n",
              "        2.8873711e+00, -1.9827211e+00, -1.5422699e+00,  1.1284900e+00,\n",
              "       -1.1235000e+01,  5.4754000e+00,  8.1189990e-01, -1.0999300e+00,\n",
              "       -5.9274001e+00, -7.1076298e-01, -1.1008101e+00, -2.2453001e+00,\n",
              "        3.0368700e+00, -3.7698898e+00, -3.7548003e+00,  1.2790999e+00,\n",
              "        9.7320008e-01, -4.2096000e+00,  5.5269995e+00,  1.8465997e+00,\n",
              "        4.0220995e+00,  1.0505199e+00,  2.1808698e+00,  4.7750001e+00,\n",
              "       -3.8340001e+00, -5.8677998e+00,  1.9839001e+00,  2.9614999e+00,\n",
              "       -4.1291223e+00, -1.9792000e+00,  1.5635000e+00,  4.0887995e+00,\n",
              "       -1.3429599e+00, -6.4279995e+00, -7.1104698e+00,  2.1612999e+00],\n",
              "      dtype=float32)"
            ]
          },
          "metadata": {},
          "execution_count": 27
        }
      ]
    },
    {
      "cell_type": "code",
      "source": [
        "cosine_similarity = lambda vec1,vec2 : 1-spatial.distance.cosine(vec1,vec2)"
      ],
      "metadata": {
        "id": "Q_JJbR6KLh5m"
      },
      "execution_count": null,
      "outputs": []
    },
    {
      "cell_type": "code",
      "source": [
        "similarities = []\n",
        "\n",
        "for word in nlp.vocab:\n",
        "    if word.has_vector and word.is_alpha and word.is_lower:\n",
        "        similarities.append((cosine_similarity(new_vector,word.vector),word.text))"
      ],
      "metadata": {
        "id": "GGh9GX4bLlF1"
      },
      "execution_count": null,
      "outputs": []
    },
    {
      "cell_type": "code",
      "source": [
        "# as we can observe that for a vector like king-man+woman we obviously expect a queen and it\n",
        "#proves to be successful in getting that\n",
        "\n",
        "for similarity,word in  sorted(similarities,reverse=True)[:10]:\n",
        "    print(word)"
      ],
      "metadata": {
        "colab": {
          "base_uri": "https://localhost:8080/"
        },
        "id": "5-Oo5SaOLnyv",
        "outputId": "91f7a4b1-db51-43c0-ef2f-2e3201de8e57"
      },
      "execution_count": null,
      "outputs": [
        {
          "output_type": "stream",
          "name": "stdout",
          "text": [
            "king\n",
            "and\n",
            "that\n",
            "where\n",
            "she\n",
            "they\n",
            "woman\n",
            "there\n",
            "should\n",
            "these\n"
          ]
        }
      ]
    }
  ]
}